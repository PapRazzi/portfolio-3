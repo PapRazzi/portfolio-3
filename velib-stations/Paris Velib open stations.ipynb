{
 "cells": [
  {
   "cell_type": "markdown",
   "metadata": {},
   "source": [
    "# Almost 50% of Velib stations in Paris are now closed"
   ]
  },
  {
   "cell_type": "markdown",
   "metadata": {},
   "source": [
    "Like many big cities, the city of Paris has been providing a public bicycle sharing system since 2007, called \"Vélib\". More than 1200 bicycle stations were operational, providing around 20'000 bikes. However after ten years, the Vélib service will be replaced as of January 2018 by a new provider called \"Smoovengo\". In order to transition to the new service, all stations must be dismantled, and new ones rebuilt. This process has begun in fall 2017, and will be achieved by December 31st. \n",
    "\n",
    "However, there is no official reporting on the number of closed Velib stations. To track this, I have been using the [Vélib API](https://developer.jcdecaux.com/#/opendata/vls?page=getstarted) since October. I set up a small Python script that pings the API every 5 minutes, and stores the resulting JSON file on a server. These files give updated information about all Vélib stations, including their status: `OPEN` or `CLOSED`.\n",
    "\n",
    "I have now collected 13'734 JSON files since October 5th, taking almost 6 Gb. This resource will allow me to do a deeper analysis on the Vélib service, but I wanted to do a quick update on the evolution of open stations, as we are now half-way through the dismantling process."
   ]
  },
  {
   "cell_type": "markdown",
   "metadata": {},
   "source": [
    "## Libraries and setup"
   ]
  },
  {
   "cell_type": "code",
   "execution_count": 1,
   "metadata": {},
   "outputs": [],
   "source": [
    "# Load libraries\n",
    "import os\n",
    "import pandas as pd\n",
    "import numpy as np\n",
    "import seaborn as sns\n",
    "import matplotlib.pyplot as plt\n",
    "from pandas import Series, DataFrame\n",
    "\n",
    "# Plots parameters\n",
    "%matplotlib inline"
   ]
  },
  {
   "cell_type": "markdown",
   "metadata": {},
   "source": [
    "## Load JSON files"
   ]
  },
  {
   "cell_type": "code",
   "execution_count": 10,
   "metadata": {},
   "outputs": [
    {
     "data": {
      "text/plain": [
       "['velib-data_2017-10-05-1840.json',\n",
       " 'velib-data_2017-10-05-1845.json',\n",
       " 'velib-data_2017-10-05-1900.json',\n",
       " 'velib-data_2017-10-05-1905.json',\n",
       " 'velib-data_2017-10-05-1910.json',\n",
       " 'velib-data_2017-10-05-1915.json',\n",
       " 'velib-data_2017-10-05-1935.json',\n",
       " 'velib-data_2017-10-05-1940.json',\n",
       " 'velib-data_2017-10-05-1945.json',\n",
       " 'velib-data_2017-10-05-2000.json']"
      ]
     },
     "execution_count": 10,
     "metadata": {},
     "output_type": "execute_result"
    }
   ],
   "source": [
    "### List all extracted JSON files in the folder\n",
    "json_files = [file for file in os.listdir('./json/') if file.endswith('.json')]\n",
    "json_files[0:10]"
   ]
  },
  {
   "cell_type": "code",
   "execution_count": null,
   "metadata": {},
   "outputs": [],
   "source": [
    "### Keep only files generated at 23:55 every day, to get 1 file per day\n",
    "daily_files = [file for file in json_files if file.endswith('-2355.json')]"
   ]
  },
  {
   "cell_type": "code",
   "execution_count": null,
   "metadata": {},
   "outputs": [],
   "source": [
    "### Load JSON files into a Dataframe\n",
    "stations = DataFrame(columns=['id', 'status', 'bike_stands', 'date'])\n",
    "for file in daily_files:\n",
    "    temp = pd.read_json('/Users/Maison/Desktop/Charles/json/'  + file)\n",
    "    temp = DataFrame({'id': temp['number'], 'status': temp['status'], 'bike_stands': temp['bike_stands'], \n",
    "                      'date': pd.to_datetime(file[-20:-10], format='%Y-%m-%d')})\n",
    "    stations = stations.append(temp[temp['status'] == 'OPEN'])\n",
    "    \n",
    "stations = stations.sort_values(by=['date', 'id']).reset_index(drop=True)"
   ]
  },
  {
   "cell_type": "code",
   "execution_count": 19,
   "metadata": {},
   "outputs": [
    {
     "data": {
      "text/html": [
       "<div>\n",
       "<style scoped>\n",
       "    .dataframe tbody tr th:only-of-type {\n",
       "        vertical-align: middle;\n",
       "    }\n",
       "\n",
       "    .dataframe tbody tr th {\n",
       "        vertical-align: top;\n",
       "    }\n",
       "\n",
       "    .dataframe thead th {\n",
       "        text-align: right;\n",
       "    }\n",
       "</style>\n",
       "<table border=\"1\" class=\"dataframe\">\n",
       "  <thead>\n",
       "    <tr style=\"text-align: right;\">\n",
       "      <th></th>\n",
       "      <th>bike_stands</th>\n",
       "      <th>date</th>\n",
       "      <th>id</th>\n",
       "      <th>status</th>\n",
       "    </tr>\n",
       "  </thead>\n",
       "  <tbody>\n",
       "    <tr>\n",
       "      <th>0</th>\n",
       "      <td>20</td>\n",
       "      <td>2017-10-06</td>\n",
       "      <td>901</td>\n",
       "      <td>OPEN</td>\n",
       "    </tr>\n",
       "    <tr>\n",
       "      <th>1</th>\n",
       "      <td>20</td>\n",
       "      <td>2017-10-06</td>\n",
       "      <td>903</td>\n",
       "      <td>OPEN</td>\n",
       "    </tr>\n",
       "    <tr>\n",
       "      <th>2</th>\n",
       "      <td>30</td>\n",
       "      <td>2017-10-06</td>\n",
       "      <td>904</td>\n",
       "      <td>OPEN</td>\n",
       "    </tr>\n",
       "    <tr>\n",
       "      <th>3</th>\n",
       "      <td>20</td>\n",
       "      <td>2017-10-06</td>\n",
       "      <td>905</td>\n",
       "      <td>OPEN</td>\n",
       "    </tr>\n",
       "    <tr>\n",
       "      <th>4</th>\n",
       "      <td>20</td>\n",
       "      <td>2017-10-06</td>\n",
       "      <td>906</td>\n",
       "      <td>OPEN</td>\n",
       "    </tr>\n",
       "  </tbody>\n",
       "</table>\n",
       "</div>"
      ],
      "text/plain": [
       "  bike_stands       date   id status\n",
       "0          20 2017-10-06  901   OPEN\n",
       "1          20 2017-10-06  903   OPEN\n",
       "2          30 2017-10-06  904   OPEN\n",
       "3          20 2017-10-06  905   OPEN\n",
       "4          20 2017-10-06  906   OPEN"
      ]
     },
     "execution_count": 19,
     "metadata": {},
     "output_type": "execute_result"
    }
   ],
   "source": [
    "### Glimpse at the dataframe\n",
    "stations.head()"
   ]
  },
  {
   "cell_type": "markdown",
   "metadata": {},
   "source": [
    "## Plot evolution of open stations"
   ]
  },
  {
   "cell_type": "code",
   "execution_count": 15,
   "metadata": {},
   "outputs": [],
   "source": [
    "### Get number of open stations per day, and sum of bike stands\n",
    "graph = stations.groupby('date')[['id']].agg('count')\n",
    "graph.index.name = ''"
   ]
  },
  {
   "cell_type": "code",
   "execution_count": 18,
   "metadata": {},
   "outputs": [
    {
     "data": {
      "text/html": [
       "<div>\n",
       "<style scoped>\n",
       "    .dataframe tbody tr th:only-of-type {\n",
       "        vertical-align: middle;\n",
       "    }\n",
       "\n",
       "    .dataframe tbody tr th {\n",
       "        vertical-align: top;\n",
       "    }\n",
       "\n",
       "    .dataframe thead th {\n",
       "        text-align: right;\n",
       "    }\n",
       "</style>\n",
       "<table border=\"1\" class=\"dataframe\">\n",
       "  <thead>\n",
       "    <tr style=\"text-align: right;\">\n",
       "      <th></th>\n",
       "      <th>id</th>\n",
       "    </tr>\n",
       "    <tr>\n",
       "      <th></th>\n",
       "      <th></th>\n",
       "    </tr>\n",
       "  </thead>\n",
       "  <tbody>\n",
       "    <tr>\n",
       "      <th>2017-10-06</th>\n",
       "      <td>1116</td>\n",
       "    </tr>\n",
       "    <tr>\n",
       "      <th>2017-10-07</th>\n",
       "      <td>1091</td>\n",
       "    </tr>\n",
       "    <tr>\n",
       "      <th>2017-10-08</th>\n",
       "      <td>1066</td>\n",
       "    </tr>\n",
       "    <tr>\n",
       "      <th>2017-10-09</th>\n",
       "      <td>1025</td>\n",
       "    </tr>\n",
       "    <tr>\n",
       "      <th>2017-10-10</th>\n",
       "      <td>1005</td>\n",
       "    </tr>\n",
       "  </tbody>\n",
       "</table>\n",
       "</div>"
      ],
      "text/plain": [
       "              id\n",
       "                \n",
       "2017-10-06  1116\n",
       "2017-10-07  1091\n",
       "2017-10-08  1066\n",
       "2017-10-09  1025\n",
       "2017-10-10  1005"
      ]
     },
     "execution_count": 18,
     "metadata": {},
     "output_type": "execute_result"
    }
   ],
   "source": [
    "### Glimpse at the resulting dataframe\n",
    "graph.head()"
   ]
  },
  {
   "cell_type": "code",
   "execution_count": 26,
   "metadata": {},
   "outputs": [
    {
     "data": {
      "text/plain": [
       "Text(17530,600,'All stations must be closed on 31st Dec. 2017')"
      ]
     },
     "execution_count": 26,
     "metadata": {},
     "output_type": "execute_result"
    },
    {
     "data": {
      "image/png": "[encoded data removed]",
      "text/plain": [
       "<matplotlib.figure.Figure at 0x1a0b78bba8>"
      ]
     },
     "metadata": {},
     "output_type": "display_data"
    }
   ],
   "source": [
    "### Plot \n",
    "\n",
    "# Plot layout\n",
    "sns.set(font='sans-serif')\n",
    "sns.set_palette('deep')\n",
    "fig = plt.figure(figsize = (12, 7))\n",
    "ax = fig.add_subplot(1, 1, 1)\n",
    "\n",
    "# Main plot\n",
    "graph.plot(x=graph.index, y='id', ax=ax, \n",
    "           style='-', lw=5, fontsize=14, legend=False,\n",
    "           yticks=range(0, 1300, 200), xlim=(17440, 17535))\n",
    "\n",
    "# Plot title\n",
    "ax.set_title('Number of open Vélib stations in Paris', fontsize=18, fontweight='bold')\n",
    "\n",
    "# Annotate first datapoint\n",
    "ax.text(17444.6, 1116, ' ', bbox=dict(boxstyle=\"circle, pad=0.5\", color='orange', lw=2, fc='None'))\n",
    "ax.text(17448, 1116, '1116 open stations on 5th Oct.', fontsize=13)\n",
    "\n",
    "# Annotate last datapoint\n",
    "ax.text(17492, 625, ' ', bbox=dict(boxstyle=\"circle, pad=0.5\", color='orange', lw=2, fc='None'))\n",
    "ax.text(17495, 625, '632 open stations on 22nd Nov.', fontsize=13)\n",
    "\n",
    "# Add vertical line for 1st Jan. deadline\n",
    "ax.axvline(x=17532, ymin=0, ymax=1, color='orange')\n",
    "ax.text(17530, 600, 'All stations must be closed on 31st Dec. 2017', \n",
    "        rotation=90, va='center', color='orange', fontweight='bold')"
   ]
  }
 ],
 "metadata": {
  "kernelspec": {
   "display_name": "Python 3",
   "language": "python",
   "name": "python3"
  },
  "language_info": {
   "codemirror_mode": {
    "name": "ipython",
    "version": 3
   },
   "file_extension": ".py",
   "mimetype": "text/x-python",
   "name": "python",
   "nbconvert_exporter": "python",
   "pygments_lexer": "ipython3",
   "version": "3.6.3"
  }
 },
 "nbformat": 4,
 "nbformat_minor": 2
}
